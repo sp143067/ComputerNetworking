{
 "cells": [
  {
   "cell_type": "code",
   "execution_count": 1,
   "metadata": {},
   "outputs": [],
   "source": [
    "# CS825 - Computer Networks\n",
    "# Student Name:  Sandeep Kumar Paul\n",
    "# Assignment-1"
   ]
  },
  {
   "cell_type": "markdown",
   "metadata": {},
   "source": [
    "### Install important libraries"
   ]
  },
  {
   "cell_type": "code",
   "execution_count": 1,
   "metadata": {},
   "outputs": [],
   "source": [
    "# Install required libraries using below conda command:\n",
    "# If already these libaries installed in the system, then comment the lines(5-7)\n",
    "import sys\n",
    "\n",
    "#!conda install --yes --prefix {sys.prefix} numpy\n",
    "#!conda install --yes --prefix {sys.prefix} matplotlib\n",
    "#!conda install --yes --prefix {sys.prefix} seaborn"
   ]
  },
  {
   "cell_type": "code",
   "execution_count": 2,
   "metadata": {},
   "outputs": [],
   "source": [
    "# import below python libraries\n",
    "import re\n",
    "import numpy as np\n",
    "import seaborn as sns\n",
    "import matplotlib.pyplot as plt\n",
    "%matplotlib inline"
   ]
  },
  {
   "cell_type": "markdown",
   "metadata": {},
   "source": [
    "## 6(a)\n",
    "### What was the minimum, maximum, mean, and median latency of the pings that succeeded? Ignore pings that failed in the calculation. What was the standard deviation of latency?"
   ]
  },
  {
   "cell_type": "code",
   "execution_count": 5,
   "metadata": {},
   "outputs": [
    {
     "name": "stdout",
     "output_type": "stream",
     "text": [
      "3004\n"
     ]
    }
   ],
   "source": [
    "# Here, I have used the regular expression to search a specific string for latency\n",
    "latency = []\n",
    "counter = 0\n",
    "with open('ping.txt') as pingfile1:\n",
    "    for row in pingfile1:\n",
    "        counter = counter + 1\n",
    "        match = re.search(r'time=(\\S+)', row)\n",
    "        #print(match)\n",
    "        if match:\n",
    "            latency.append(match.group(1))\n",
    "print(counter)  # Total number of pings"
   ]
  },
  {
   "cell_type": "code",
   "execution_count": 6,
   "metadata": {},
   "outputs": [
    {
     "name": "stdout",
     "output_type": "stream",
     "text": [
      "Length of total succeded pings:  2883\n"
     ]
    }
   ],
   "source": [
    "latency_length = len(latency)\n",
    "print('Length of total succeded pings: ',latency_length)"
   ]
  },
  {
   "cell_type": "code",
   "execution_count": 7,
   "metadata": {},
   "outputs": [],
   "source": [
    "# Convert the list to numpay array\n",
    "latency_array = np.array(latency)"
   ]
  },
  {
   "cell_type": "code",
   "execution_count": 8,
   "metadata": {},
   "outputs": [],
   "source": [
    "# Convert the string array to float array for mathematical calculation\n",
    "latency_array = latency_array.astype(np.float)"
   ]
  },
  {
   "cell_type": "markdown",
   "metadata": {},
   "source": [
    "### Minimum Latency"
   ]
  },
  {
   "cell_type": "code",
   "execution_count": 9,
   "metadata": {},
   "outputs": [
    {
     "data": {
      "text/plain": [
       "2.335"
      ]
     },
     "execution_count": 9,
     "metadata": {},
     "output_type": "execute_result"
    }
   ],
   "source": [
    "np.amin(latency_array)"
   ]
  },
  {
   "cell_type": "markdown",
   "metadata": {},
   "source": [
    "### Maximum Latency"
   ]
  },
  {
   "cell_type": "code",
   "execution_count": 10,
   "metadata": {},
   "outputs": [
    {
     "data": {
      "text/plain": [
       "521.617"
      ]
     },
     "execution_count": 10,
     "metadata": {},
     "output_type": "execute_result"
    }
   ],
   "source": [
    "np.amax(latency_array)"
   ]
  },
  {
   "cell_type": "markdown",
   "metadata": {},
   "source": [
    "### Mean Latency"
   ]
  },
  {
   "cell_type": "code",
   "execution_count": 11,
   "metadata": {},
   "outputs": [
    {
     "name": "stdout",
     "output_type": "stream",
     "text": [
      "Mean Latency is:  131.28713146028443\n"
     ]
    }
   ],
   "source": [
    "print('Mean Latency is: ',np.mean(latency_array))"
   ]
  },
  {
   "cell_type": "markdown",
   "metadata": {},
   "source": [
    "### Standrad deviation Latency"
   ]
  },
  {
   "cell_type": "code",
   "execution_count": 12,
   "metadata": {},
   "outputs": [
    {
     "name": "stdout",
     "output_type": "stream",
     "text": [
      "Standard deviation of latency is:  81.39211843475798\n"
     ]
    }
   ],
   "source": [
    "print('Standard deviation of latency is: ', np.std(latency_array))"
   ]
  },
  {
   "cell_type": "markdown",
   "metadata": {},
   "source": [
    "### Median  Latency"
   ]
  },
  {
   "cell_type": "code",
   "execution_count": 13,
   "metadata": {},
   "outputs": [
    {
     "name": "stdout",
     "output_type": "stream",
     "text": [
      "Median of Latency is:  142.544\n"
     ]
    }
   ],
   "source": [
    "print('Median of Latency is: ',np.median(latency_array))"
   ]
  },
  {
   "cell_type": "markdown",
   "metadata": {},
   "source": [
    "## 6) (b)  \n",
    "## Packet Loss Ratio\n",
    "\n",
    "- total number of packets lost / total number of packets received(latency_length)\n",
    "- total packet lost = total ping counts(#Counter) - total number of packets Received(#latency)"
   ]
  },
  {
   "cell_type": "code",
   "execution_count": 14,
   "metadata": {},
   "outputs": [
    {
     "name": "stdout",
     "output_type": "stream",
     "text": [
      "121\n"
     ]
    }
   ],
   "source": [
    "# total number of Packets lost\n",
    "packet_received = latency_length\n",
    "packet_loss = counter-latency_length\n",
    "print(packet_loss)"
   ]
  },
  {
   "cell_type": "code",
   "execution_count": 15,
   "metadata": {},
   "outputs": [
    {
     "name": "stdout",
     "output_type": "stream",
     "text": [
      "Packet Loss Rate is: 0.042\n"
     ]
    }
   ],
   "source": [
    "print('Packet Loss Rate is: {:.3f}'.format(packet_loss/packet_received))"
   ]
  },
  {
   "cell_type": "markdown",
   "metadata": {},
   "source": [
    "## 6 (c)\n",
    "### What was the average and maximum length of the period when packets were not delivered? Note that in the experiments here, the pings were sent at the default rate of one per second."
   ]
  },
  {
   "cell_type": "code",
   "execution_count": 16,
   "metadata": {},
   "outputs": [
    {
     "name": "stdout",
     "output_type": "stream",
     "text": [
      "Average length of the period when packets were not delivered: 1.071 second\n",
      "Maximum length of the period when packets were not delivered: 3 second\n"
     ]
    }
   ],
   "source": [
    "period = []\n",
    "c_count = 0\n",
    "c_max = 0\n",
    "last_match = False\n",
    "c_sum = 0\n",
    "c_appear = 0\n",
    "with open('ping.txt') as pingfile2:\n",
    "    for row in pingfile2:\n",
    "        match = re.search(r'Request timeout\\b', row)\n",
    "        if match:\n",
    "            c_count = c_count+1\n",
    "            if (c_max < c_count):\n",
    "                c_max = c_count\n",
    "            if (last_match == False):\n",
    "                c_appear = c_appear+1\n",
    "            last_match = True         \n",
    "        else:\n",
    "            c_sum = c_sum+c_count\n",
    "            c_count =0\n",
    "            last_match=False\n",
    "\n",
    "    #print('c_appear',c_appear)\n",
    "    #print('c_sum',c_sum)\n",
    "    print('Average length of the period when packets were not delivered: {:.3f} second'.format(float(c_sum / c_appear)))    \n",
    "    print('Maximum length of the period when packets were not delivered: {} second'.format(c_max))\n"
   ]
  },
  {
   "cell_type": "markdown",
   "metadata": {},
   "source": [
    "## 6 (d)\n",
    "### Come up with a graph that visualizes the distribution of the ping latencies. There are several ways to do this, there is no specific one that I am looking for. The goal is to find a method to display the data in a way that is clear and easy to understand."
   ]
  },
  {
   "cell_type": "code",
   "execution_count": 17,
   "metadata": {},
   "outputs": [
    {
     "data": {
      "image/png": "[encoded data removed]",
      "text/plain": [
       "<Figure size 864x432 with 1 Axes>"
      ]
     },
     "metadata": {},
     "output_type": "display_data"
    }
   ],
   "source": [
    "sns.set_style(\"whitegrid\")\n",
    "sns.set(rc={'figure.figsize':(12,6)})\n",
    "# distribution plot of latency using seaborn python library\n",
    "dist_plot = sns.distplot(latency_array,color='purple', rug=True)\n",
    "plt.xlim(xmin=0)\n",
    "plt.ylim(ymin=0)\n",
    "plt.xlabel(\"Network Latency(in milliseconds)\", fontsize=20)\n",
    "plt.ylabel(\"Density\", fontsize=20)\n",
    "plt.show()"
   ]
  },
  {
   "cell_type": "markdown",
   "metadata": {},
   "source": [
    "## 6 (e)\n",
    "### Extra credit: Is there periodicity in the observed network latency?"
   ]
  },
  {
   "cell_type": "markdown",
   "metadata": {},
   "source": [
    "#### Answer:\n",
    "- As per above KDE(Kernel density estimate) plot, I can say there is no uniform periodicity in the given ping output. But I could see the count of latency range between 100 ms - 200ms is quite high as compared to other network latency values."
   ]
  }
 ],
 "metadata": {
  "kernelspec": {
   "display_name": "Python 3",
   "language": "python",
   "name": "python3"
  },
  "language_info": {
   "codemirror_mode": {
    "name": "ipython",
    "version": 3
   },
   "file_extension": ".py",
   "mimetype": "text/x-python",
   "name": "python",
   "nbconvert_exporter": "python",
   "pygments_lexer": "ipython3",
   "version": "3.7.6"
  }
 },
 "nbformat": 4,
 "nbformat_minor": 4
}
